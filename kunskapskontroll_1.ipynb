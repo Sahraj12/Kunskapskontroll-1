{
 "cells": [
  {
   "cell_type": "code",
   "execution_count": 12,
   "id": "5eeafa87-2b67-40db-912b-78b7a53303c9",
   "metadata": {},
   "outputs": [
    {
     "name": "stdout",
     "output_type": "stream",
     "text": [
      "Requirement already satisfied: panda in c:\\users\\saher raja\\anaconda3\\lib\\site-packages (0.3.1)\n",
      "Requirement already satisfied: setuptools in c:\\users\\saher raja\\anaconda3\\lib\\site-packages (from panda) (75.1.0)\n",
      "Requirement already satisfied: requests in c:\\users\\saher raja\\anaconda3\\lib\\site-packages (from panda) (2.32.3)\n",
      "Requirement already satisfied: charset-normalizer<4,>=2 in c:\\users\\saher raja\\anaconda3\\lib\\site-packages (from requests->panda) (3.3.2)\n",
      "Requirement already satisfied: idna<4,>=2.5 in c:\\users\\saher raja\\anaconda3\\lib\\site-packages (from requests->panda) (3.7)\n",
      "Requirement already satisfied: urllib3<3,>=1.21.1 in c:\\users\\saher raja\\anaconda3\\lib\\site-packages (from requests->panda) (2.2.3)\n",
      "Requirement already satisfied: certifi>=2017.4.17 in c:\\users\\saher raja\\anaconda3\\lib\\site-packages (from requests->panda) (2024.8.30)\n"
     ]
    }
   ],
   "source": [
    "!pip install panda"
   ]
  },
  {
   "cell_type": "code",
   "execution_count": 13,
   "id": "4ac55b9c-02f5-460d-b95e-7ec58d80328c",
   "metadata": {},
   "outputs": [
    {
     "name": "stdout",
     "output_type": "stream",
     "text": [
      "2.2.2\n"
     ]
    }
   ],
   "source": [
    "import pandas as pd\n",
    "print(pd.__version__)  # Visar den installerade versionen"
   ]
  },
  {
   "cell_type": "code",
   "execution_count": 14,
   "id": "8fb51d2c-e622-47cb-95b6-352803007290",
   "metadata": {},
   "outputs": [
    {
     "name": "stdout",
     "output_type": "stream",
     "text": [
      "  Weather   Road_Type Time_of_Day  Traffic_Density  Speed_Limit  \\\n",
      "0   Rainy   City Road     Morning              1.0        100.0   \n",
      "1   Clear  Rural Road       Night              NaN        120.0   \n",
      "2   Rainy     Highway     Evening              1.0         60.0   \n",
      "3   Clear   City Road   Afternoon              2.0         60.0   \n",
      "4   Rainy     Highway     Morning              1.0        195.0   \n",
      "\n",
      "   Number_of_Vehicles  Driver_Alcohol Accident_Severity      Road_Condition  \\\n",
      "0                 5.0             0.0               NaN                 Wet   \n",
      "1                 3.0             0.0          Moderate                 Wet   \n",
      "2                 4.0             0.0               Low                 Icy   \n",
      "3                 3.0             0.0               Low  Under Construction   \n",
      "4                11.0             0.0               Low                 Dry   \n",
      "\n",
      "  Vehicle_Type  Driver_Age  Driver_Experience Road_Light_Condition  Accident  \n",
      "0          Car        51.0               48.0     Artificial Light       0.0  \n",
      "1        Truck        49.0               43.0     Artificial Light       0.0  \n",
      "2          Car        54.0               52.0     Artificial Light       0.0  \n",
      "3          Bus        34.0               31.0             Daylight       0.0  \n",
      "4          Car        62.0               55.0     Artificial Light       1.0  \n"
     ]
    }
   ],
   "source": [
    "import pandas as pd\n",
    "\n",
    "# Läser in filen\n",
    "file_path = r'C:\\Programmering\\Python Kurs\\dataset_traffic_accident_prediction.csv'\n",
    "data = pd.read_csv(file_path)\n",
    "\n",
    "# Visar de första fem raderna\n",
    "print(data.head())"
   ]
  },
  {
   "cell_type": "code",
   "execution_count": 15,
   "id": "caf11341-51cb-4492-bbcd-7310b6dbd14d",
   "metadata": {},
   "outputs": [
    {
     "name": "stdout",
     "output_type": "stream",
     "text": [
      "  Weather   Road_Type Accident_Severity\n",
      "0   Rainy   City Road               NaN\n",
      "1   Clear  Rural Road          Moderate\n",
      "2   Rainy     Highway               Low\n",
      "3   Clear   City Road               Low\n",
      "4   Rainy     Highway               Low\n"
     ]
    }
   ],
   "source": [
    "import pandas as pd\n",
    "import numpy as np  # För att använda np.nan för NaN-värde\n",
    "\n",
    "# Skapar en DataFrame\n",
    "df = pd.DataFrame({\n",
    "    'Weather': ['Rainy', 'Clear', 'Rainy', 'Clear', 'Rainy'],\n",
    "    'Road_Type': ['City Road', 'Rural Road', 'Highway', 'City Road', 'Highway'],\n",
    "    'Accident_Severity': [np.nan, 'Moderate', 'Low', 'Low', 'Low']\n",
    "}, columns=['Weather','Road_Type','Accident_Severity'])\n",
    "\n",
    "# Visar DataFrame\n",
    "print(df)"
   ]
  },
  {
   "cell_type": "code",
   "execution_count": 16,
   "id": "7eef2281-ffdf-440b-b6fe-89d47564aeb3",
   "metadata": {},
   "outputs": [
    {
     "data": {
      "text/plain": [
       "Index(['Weather', 'Road_Type', 'Accident_Severity'], dtype='object')"
      ]
     },
     "execution_count": 16,
     "metadata": {},
     "output_type": "execute_result"
    }
   ],
   "source": [
    "df.columns"
   ]
  },
  {
   "cell_type": "code",
   "execution_count": 17,
   "id": "e260dd40-f309-4882-ae75-556db9ec173f",
   "metadata": {},
   "outputs": [
    {
     "data": {
      "text/plain": [
       "RangeIndex(start=0, stop=5, step=1)"
      ]
     },
     "execution_count": 17,
     "metadata": {},
     "output_type": "execute_result"
    }
   ],
   "source": [
    "df.index"
   ]
  },
  {
   "cell_type": "code",
   "execution_count": 18,
   "id": "675357a6-cf6a-4043-a2e9-6b0b008c3407",
   "metadata": {},
   "outputs": [
    {
     "name": "stdout",
     "output_type": "stream",
     "text": [
      "<class 'pandas.core.frame.DataFrame'>\n",
      "RangeIndex: 5 entries, 0 to 4\n",
      "Data columns (total 3 columns):\n",
      " #   Column             Non-Null Count  Dtype \n",
      "---  ------             --------------  ----- \n",
      " 0   Weather            5 non-null      object\n",
      " 1   Road_Type          5 non-null      object\n",
      " 2   Accident_Severity  4 non-null      object\n",
      "dtypes: object(3)\n",
      "memory usage: 252.0+ bytes\n"
     ]
    }
   ],
   "source": [
    "df.info()"
   ]
  },
  {
   "cell_type": "code",
   "execution_count": 19,
   "id": "dbb40ac0-1828-45c3-8b89-08bbb336c11e",
   "metadata": {},
   "outputs": [
    {
     "data": {
      "text/plain": [
       "15"
      ]
     },
     "execution_count": 19,
     "metadata": {},
     "output_type": "execute_result"
    }
   ],
   "source": [
    "df.size"
   ]
  },
  {
   "cell_type": "code",
   "execution_count": 20,
   "id": "79aea36b-601a-46f4-aee7-db74ff2cca62",
   "metadata": {},
   "outputs": [
    {
     "data": {
      "text/html": [
       "<div>\n",
       "<style scoped>\n",
       "    .dataframe tbody tr th:only-of-type {\n",
       "        vertical-align: middle;\n",
       "    }\n",
       "\n",
       "    .dataframe tbody tr th {\n",
       "        vertical-align: top;\n",
       "    }\n",
       "\n",
       "    .dataframe thead th {\n",
       "        text-align: right;\n",
       "    }\n",
       "</style>\n",
       "<table border=\"1\" class=\"dataframe\">\n",
       "  <thead>\n",
       "    <tr style=\"text-align: right;\">\n",
       "      <th></th>\n",
       "      <th>Weather</th>\n",
       "      <th>Road_Type</th>\n",
       "      <th>Accident_Severity</th>\n",
       "    </tr>\n",
       "  </thead>\n",
       "  <tbody>\n",
       "    <tr>\n",
       "      <th>count</th>\n",
       "      <td>5</td>\n",
       "      <td>5</td>\n",
       "      <td>4</td>\n",
       "    </tr>\n",
       "    <tr>\n",
       "      <th>unique</th>\n",
       "      <td>2</td>\n",
       "      <td>3</td>\n",
       "      <td>2</td>\n",
       "    </tr>\n",
       "    <tr>\n",
       "      <th>top</th>\n",
       "      <td>Rainy</td>\n",
       "      <td>City Road</td>\n",
       "      <td>Low</td>\n",
       "    </tr>\n",
       "    <tr>\n",
       "      <th>freq</th>\n",
       "      <td>3</td>\n",
       "      <td>2</td>\n",
       "      <td>3</td>\n",
       "    </tr>\n",
       "  </tbody>\n",
       "</table>\n",
       "</div>"
      ],
      "text/plain": [
       "       Weather  Road_Type Accident_Severity\n",
       "count        5          5                 4\n",
       "unique       2          3                 2\n",
       "top      Rainy  City Road               Low\n",
       "freq         3          2                 3"
      ]
     },
     "execution_count": 20,
     "metadata": {},
     "output_type": "execute_result"
    }
   ],
   "source": [
    "df.describe()"
   ]
  },
  {
   "cell_type": "code",
   "execution_count": 21,
   "id": "576aefec-48f0-47e3-b39d-307cc23bde75",
   "metadata": {},
   "outputs": [
    {
     "data": {
      "text/plain": [
       "Weather              object\n",
       "Road_Type            object\n",
       "Accident_Severity    object\n",
       "dtype: object"
      ]
     },
     "execution_count": 21,
     "metadata": {},
     "output_type": "execute_result"
    }
   ],
   "source": [
    "df.dtypes"
   ]
  },
  {
   "cell_type": "code",
   "execution_count": 22,
   "id": "e3038050-8550-43ad-acc6-1227ac647a7c",
   "metadata": {},
   "outputs": [
    {
     "data": {
      "text/plain": [
       "object    3\n",
       "Name: count, dtype: int64"
      ]
     },
     "execution_count": 22,
     "metadata": {},
     "output_type": "execute_result"
    }
   ],
   "source": [
    "df.dtypes.value_counts()"
   ]
  },
  {
   "cell_type": "code",
   "execution_count": 23,
   "id": "fbfffc36-dca9-4842-8b32-e5b570f3c2c3",
   "metadata": {},
   "outputs": [
    {
     "data": {
      "text/html": [
       "<div>\n",
       "<style scoped>\n",
       "    .dataframe tbody tr th:only-of-type {\n",
       "        vertical-align: middle;\n",
       "    }\n",
       "\n",
       "    .dataframe tbody tr th {\n",
       "        vertical-align: top;\n",
       "    }\n",
       "\n",
       "    .dataframe thead th {\n",
       "        text-align: right;\n",
       "    }\n",
       "</style>\n",
       "<table border=\"1\" class=\"dataframe\">\n",
       "  <thead>\n",
       "    <tr style=\"text-align: right;\">\n",
       "      <th></th>\n",
       "      <th>Weather</th>\n",
       "      <th>Road_Type</th>\n",
       "      <th>Accident_Severity</th>\n",
       "    </tr>\n",
       "  </thead>\n",
       "  <tbody>\n",
       "    <tr>\n",
       "      <th>0</th>\n",
       "      <td>Rainy</td>\n",
       "      <td>City Road</td>\n",
       "      <td>NaN</td>\n",
       "    </tr>\n",
       "    <tr>\n",
       "      <th>1</th>\n",
       "      <td>Clear</td>\n",
       "      <td>Rural Road</td>\n",
       "      <td>Moderate</td>\n",
       "    </tr>\n",
       "    <tr>\n",
       "      <th>2</th>\n",
       "      <td>Rainy</td>\n",
       "      <td>Highway</td>\n",
       "      <td>Low</td>\n",
       "    </tr>\n",
       "    <tr>\n",
       "      <th>3</th>\n",
       "      <td>Clear</td>\n",
       "      <td>City Road</td>\n",
       "      <td>Low</td>\n",
       "    </tr>\n",
       "    <tr>\n",
       "      <th>4</th>\n",
       "      <td>Rainy</td>\n",
       "      <td>Highway</td>\n",
       "      <td>Low</td>\n",
       "    </tr>\n",
       "  </tbody>\n",
       "</table>\n",
       "</div>"
      ],
      "text/plain": [
       "  Weather   Road_Type Accident_Severity\n",
       "0   Rainy   City Road               NaN\n",
       "1   Clear  Rural Road          Moderate\n",
       "2   Rainy     Highway               Low\n",
       "3   Clear   City Road               Low\n",
       "4   Rainy     Highway               Low"
      ]
     },
     "execution_count": 23,
     "metadata": {},
     "output_type": "execute_result"
    }
   ],
   "source": [
    "df"
   ]
  },
  {
   "cell_type": "code",
   "execution_count": 24,
   "id": "c0e45c85-5ddf-4d75-9d4c-8bfc3d3467ff",
   "metadata": {},
   "outputs": [
    {
     "data": {
      "text/plain": [
       "Weather                  Rainy\n",
       "Road_Type            City Road\n",
       "Accident_Severity          NaN\n",
       "Name: 0, dtype: object"
      ]
     },
     "execution_count": 24,
     "metadata": {},
     "output_type": "execute_result"
    }
   ],
   "source": [
    "df.loc[0]"
   ]
  },
  {
   "cell_type": "code",
   "execution_count": 25,
   "id": "3853813b-e424-49fe-b6ec-67fb2177a5ae",
   "metadata": {},
   "outputs": [
    {
     "data": {
      "text/plain": [
       "Weather                Rainy\n",
       "Road_Type            Highway\n",
       "Accident_Severity        Low\n",
       "Name: 4, dtype: object"
      ]
     },
     "execution_count": 25,
     "metadata": {},
     "output_type": "execute_result"
    }
   ],
   "source": [
    "df.iloc[-1]"
   ]
  },
  {
   "cell_type": "code",
   "execution_count": 26,
   "id": "2067f73c-6a50-4257-b98f-fb9a45b04184",
   "metadata": {},
   "outputs": [
    {
     "data": {
      "text/plain": [
       "0    Rainy\n",
       "1    Clear\n",
       "2    Rainy\n",
       "3    Clear\n",
       "4    Rainy\n",
       "Name: Weather, dtype: object"
      ]
     },
     "execution_count": 26,
     "metadata": {},
     "output_type": "execute_result"
    }
   ],
   "source": [
    "df['Weather']"
   ]
  },
  {
   "cell_type": "code",
   "execution_count": 27,
   "id": "23918c60-17f8-45d2-a998-9a0b0c1125a2",
   "metadata": {},
   "outputs": [],
   "source": [
    "langs = pd.Series(\n",
    "    ['Morning', 'Night', 'Evening', 'Afternoon', 'Morning'],\n",
    "    index=[0, 1, 2, 3, 4],\n",
    "    name='Time_of_Day'\n",
    ")"
   ]
  },
  {
   "cell_type": "code",
   "execution_count": 28,
   "id": "df2e07af-1866-424e-b9f5-48e868f2cc1a",
   "metadata": {},
   "outputs": [
    {
     "data": {
      "text/plain": [
       "0      Morning\n",
       "1        Night\n",
       "2      Evening\n",
       "3    Afternoon\n",
       "4      Morning\n",
       "Name: Time_of_Day, dtype: object"
      ]
     },
     "execution_count": 28,
     "metadata": {},
     "output_type": "execute_result"
    }
   ],
   "source": [
    "langs"
   ]
  },
  {
   "cell_type": "code",
   "execution_count": 29,
   "id": "de9d7b99-ae3c-45f4-bce8-2356027c354c",
   "metadata": {},
   "outputs": [],
   "source": [
    "df['Time_of_Day']=langs"
   ]
  },
  {
   "cell_type": "code",
   "execution_count": 30,
   "id": "a53f1cd3-ddbc-4ea4-a4b2-c36c3e5a85c6",
   "metadata": {},
   "outputs": [
    {
     "data": {
      "text/html": [
       "<div>\n",
       "<style scoped>\n",
       "    .dataframe tbody tr th:only-of-type {\n",
       "        vertical-align: middle;\n",
       "    }\n",
       "\n",
       "    .dataframe tbody tr th {\n",
       "        vertical-align: top;\n",
       "    }\n",
       "\n",
       "    .dataframe thead th {\n",
       "        text-align: right;\n",
       "    }\n",
       "</style>\n",
       "<table border=\"1\" class=\"dataframe\">\n",
       "  <thead>\n",
       "    <tr style=\"text-align: right;\">\n",
       "      <th></th>\n",
       "      <th>Weather</th>\n",
       "      <th>Road_Type</th>\n",
       "      <th>Accident_Severity</th>\n",
       "      <th>Time_of_Day</th>\n",
       "    </tr>\n",
       "  </thead>\n",
       "  <tbody>\n",
       "    <tr>\n",
       "      <th>0</th>\n",
       "      <td>Rainy</td>\n",
       "      <td>City Road</td>\n",
       "      <td>NaN</td>\n",
       "      <td>Morning</td>\n",
       "    </tr>\n",
       "    <tr>\n",
       "      <th>1</th>\n",
       "      <td>Clear</td>\n",
       "      <td>Rural Road</td>\n",
       "      <td>Moderate</td>\n",
       "      <td>Night</td>\n",
       "    </tr>\n",
       "    <tr>\n",
       "      <th>2</th>\n",
       "      <td>Rainy</td>\n",
       "      <td>Highway</td>\n",
       "      <td>Low</td>\n",
       "      <td>Evening</td>\n",
       "    </tr>\n",
       "    <tr>\n",
       "      <th>3</th>\n",
       "      <td>Clear</td>\n",
       "      <td>City Road</td>\n",
       "      <td>Low</td>\n",
       "      <td>Afternoon</td>\n",
       "    </tr>\n",
       "    <tr>\n",
       "      <th>4</th>\n",
       "      <td>Rainy</td>\n",
       "      <td>Highway</td>\n",
       "      <td>Low</td>\n",
       "      <td>Morning</td>\n",
       "    </tr>\n",
       "  </tbody>\n",
       "</table>\n",
       "</div>"
      ],
      "text/plain": [
       "  Weather   Road_Type Accident_Severity Time_of_Day\n",
       "0   Rainy   City Road               NaN     Morning\n",
       "1   Clear  Rural Road          Moderate       Night\n",
       "2   Rainy     Highway               Low     Evening\n",
       "3   Clear   City Road               Low   Afternoon\n",
       "4   Rainy     Highway               Low     Morning"
      ]
     },
     "execution_count": 30,
     "metadata": {},
     "output_type": "execute_result"
    }
   ],
   "source": [
    "#Datan är bearbetad genom att adderat kolumnen Time_of_Day \n",
    "\n",
    "df"
   ]
  },
  {
   "cell_type": "code",
   "execution_count": 31,
   "id": "eb2dc0af-9cb6-404f-8849-c5296bd62577",
   "metadata": {},
   "outputs": [],
   "source": [
    "# Sparar bearbetad data\n",
    "df.to_csv('processed_data.csv', index=False)"
   ]
  },
  {
   "cell_type": "code",
   "execution_count": 32,
   "id": "7e5bf56a-47b2-4d19-8657-b83dcef60670",
   "metadata": {},
   "outputs": [
    {
     "name": "stdout",
     "output_type": "stream",
     "text": [
      "  Weather   Road_Type Accident_Severity Time_of_Day\n",
      "0   Rainy   City Road               NaN     Morning\n",
      "1   Clear  Rural Road          Moderate       Night\n",
      "2   Rainy     Highway               Low     Evening\n",
      "3   Clear   City Road               Low   Afternoon\n",
      "4   Rainy     Highway               Low     Morning\n"
     ]
    }
   ],
   "source": [
    "import pandas as pd\n",
    "\n",
    "# Läser in den sparade filen\n",
    "saved_data = pd.read_csv('processed_data.csv')\n",
    "\n",
    "# Visar de första raderna i filen\n",
    "print(saved_data.head())\n"
   ]
  },
  {
   "cell_type": "code",
   "execution_count": 33,
   "id": "1632090c-3159-44f6-b8ea-04b22236a104",
   "metadata": {},
   "outputs": [],
   "source": [
    "import pandas as pd\n",
    "import sqlite3"
   ]
  },
  {
   "cell_type": "code",
   "execution_count": 34,
   "id": "09ae9615-094b-4a45-9b1a-a7cc60b58b9e",
   "metadata": {},
   "outputs": [],
   "source": [
    "# Ansluter till SQLite-databasen\n",
    "conn = sqlite3.connect('processed_data.db')\n",
    "cursor = conn.cursor()"
   ]
  },
  {
   "cell_type": "code",
   "execution_count": 35,
   "id": "105bffb2-b0cb-415f-8850-399a3fd92049",
   "metadata": {},
   "outputs": [],
   "source": [
    "# Skapar en SQL-tabell om den inte redan finns\n",
    "\n",
    "cursor.execute('''\n",
    "CREATE TABLE IF NOT EXISTS traffic_accidents (\n",
    "    id INTEGER PRIMARY KEY AUTOINCREMENT,\n",
    "    Weather TEXT,\n",
    "    Road_Type TEXT,\n",
    "    Accident_Severity TEXT,\n",
    "    Time_of_Day TEXT\n",
    ")\n",
    "''')\n",
    "conn.commit()"
   ]
  },
  {
   "cell_type": "code",
   "execution_count": 36,
   "id": "96e6c9c1-c632-4f69-929d-f0c9a5cf3d75",
   "metadata": {},
   "outputs": [],
   "source": [
    "import pandas as pd\n",
    "\n",
    "# Anta att man har en DataFrame som innehåller den bearbetade datan\n",
    "saved_data = pd.DataFrame({\n",
    "    'Weather': ['Rainy', 'Clear', 'Rainy', 'Clear', 'Rainy', 'Rainy', 'Clear', 'Rainy', 'Clear', 'Rainy', 'Rainy', 'Clear', 'Rainy', 'Clear', 'Rainy'],\n",
    "    'Road_Type': ['City Road', 'Rural Road', 'Highway', 'City Road', 'Highway', 'City Road', 'Rural Road', 'Highway', 'City Road', 'Highway', 'City Road', 'Rural Road', 'Highway', 'City Road', 'Highway'],\n",
    "    'Accident_Severity': [None, 'Moderate', 'Low', 'Low', 'Low', None, 'Moderate', 'Low', 'Low', 'Low', None, 'Moderate', 'Low', 'Low', 'Low'],\n",
    "    'Time_of_Day': ['Morning', 'Night', 'Evening', 'Afternoon', 'Morning', 'Morning', 'Night', 'Evening', 'Afternoon', 'Morning', 'Morning', 'Night', 'Evening', 'Afternoon', 'Morning']\n",
    "})"
   ]
  },
  {
   "cell_type": "code",
   "execution_count": 37,
   "id": "1a9f9887-dd6b-4434-ba53-f1bb18fcf944",
   "metadata": {},
   "outputs": [],
   "source": [
    "# Hanterar NaN-värden genom att fylla dem med ett värde (t.ex. 'Unknown')\n",
    "saved_data['Accident_Severity'] = saved_data['Accident_Severity'].fillna('Unknown')"
   ]
  },
  {
   "cell_type": "code",
   "execution_count": 38,
   "id": "eb018970-092e-474a-83fb-6ec9a1e66627",
   "metadata": {},
   "outputs": [
    {
     "name": "stdout",
     "output_type": "stream",
     "text": [
      "Saved data har lagts till i SQL-tabellen.\n"
     ]
    }
   ],
   "source": [
    "# Laddar bearbetad data till SQL-tabellen\n",
    "saved_data.to_sql(\n",
    "    name='traffic_accidents',   # Namn på tabellen\n",
    "    con=conn,                   # Databasanslutning\n",
    "    if_exists='append',         # Lägg till ny data\n",
    "    index=False                 # Exkludera DataFrame-index\n",
    ")\n",
    "print(\"Saved data har lagts till i SQL-tabellen.\")"
   ]
  },
  {
   "cell_type": "code",
   "execution_count": 39,
   "id": "0bc23b17-e7f0-4e3d-b424-25994b603732",
   "metadata": {},
   "outputs": [
    {
     "name": "stdout",
     "output_type": "stream",
     "text": [
      "     id Weather   Road_Type Accident_Severity Time_of_Day\n",
      "0     1   Rainy   City Road              None     Morning\n",
      "1     2   Clear  Rural Road          Moderate       Night\n",
      "2     3   Rainy     Highway               Low     Evening\n",
      "3     4   Clear   City Road               Low   Afternoon\n",
      "4     5   Rainy     Highway               Low     Morning\n",
      "..  ...     ...         ...               ...         ...\n",
      "95   96   Rainy   City Road           Unknown     Morning\n",
      "96   97   Clear  Rural Road          Moderate       Night\n",
      "97   98   Rainy     Highway               Low     Evening\n",
      "98   99   Clear   City Road               Low   Afternoon\n",
      "99  100   Rainy     Highway               Low     Morning\n",
      "\n",
      "[100 rows x 5 columns]\n"
     ]
    }
   ],
   "source": [
    "# Hämtar data från tabellen\n",
    "sql_query = 'SELECT * FROM traffic_accidents'\n",
    "data_from_sql = pd.read_sql_query(sql_query, conn)\n",
    "\n",
    "# Visar datan\n",
    "print(data_from_sql)\n"
   ]
  },
  {
   "cell_type": "code",
   "execution_count": 40,
   "id": "e100a4cf-7917-4567-8048-c3b9b0345dc2",
   "metadata": {},
   "outputs": [
    {
     "name": "stdout",
     "output_type": "stream",
     "text": [
      "     id Weather   Road_Type Accident_Severity Time_of_Day\n",
      "0     1   Rainy   City Road              None     Morning\n",
      "1     2   Clear  Rural Road          Moderate       Night\n",
      "2     3   Rainy     Highway               Low     Evening\n",
      "3     4   Clear   City Road               Low   Afternoon\n",
      "4     5   Rainy     Highway               Low     Morning\n",
      "..  ...     ...         ...               ...         ...\n",
      "95   96   Rainy   City Road           Unknown     Morning\n",
      "96   97   Clear  Rural Road          Moderate       Night\n",
      "97   98   Rainy     Highway               Low     Evening\n",
      "98   99   Clear   City Road               Low   Afternoon\n",
      "99  100   Rainy     Highway               Low     Morning\n",
      "\n",
      "[100 rows x 5 columns]\n"
     ]
    }
   ],
   "source": [
    "# Läser in data från SQL-tabellen\n",
    "saved_data = pd.read_sql_query('SELECT * FROM traffic_accidents', conn)\n",
    "\n",
    "# Visar datan\n",
    "print(saved_data)"
   ]
  },
  {
   "cell_type": "code",
   "execution_count": 41,
   "id": "4d8c4aa7-3bec-4cd5-943b-8071f05db18e",
   "metadata": {},
   "outputs": [],
   "source": [
    "# Stänger anslutningen till databasen\n",
    "conn.close()"
   ]
  },
  {
   "cell_type": "code",
   "execution_count": 42,
   "id": "02e4cf19-3a9a-4675-b313-5f8a0369fb24",
   "metadata": {},
   "outputs": [],
   "source": [
    "import unittest\n",
    "import pandas as pd\n",
    "import numpy as np\n",
    "import sqlite3\n",
    "import logging"
   ]
  },
  {
   "cell_type": "code",
   "execution_count": 43,
   "id": "f43b43da-94fa-415e-bda4-612339df6489",
   "metadata": {},
   "outputs": [],
   "source": [
    "def update_sql_table(dataframe, db_name='traffic_data.db'):\n",
    "    try:\n",
    "         # Konfigurerar loggning\n",
    "        logging.basicConfig(\n",
    "            filename='application.log',\n",
    "            level=logging.INFO,\n",
    "            format='%(asctime)s - %(levelname)s - %(message)s'\n",
    "        )\n",
    "        \n",
    "        # Kopplar till SQLite-databasen\n",
    "        conn = sqlite3.connect(db_name)\n",
    "        cursor = conn.cursor()\n",
    "\n",
    "        # Skapar tabell om den inte finns\n",
    "        cursor.execute('''\n",
    "        CREATE TABLE IF NOT EXISTS traffic_accidents (\n",
    "            id INTEGER PRIMARY KEY,\n",
    "            Weather TEXT,\n",
    "            Road_Type TEXT,\n",
    "            Accident_Severity TEXT,\n",
    "            Time_of_Day TEXT\n",
    "        );\n",
    "        ''')\n",
    "        conn.commit()\n",
    "\n",
    "        # Lägger till data från DataFrame till SQL-tabellen\n",
    "        dataframe.to_sql(name='traffic_accidents', con=conn, if_exists='append', index=False)\n",
    "        logging.info('Data successfully inserted into the database.')\n",
    "\n",
    "    except Exception as e:\n",
    "        logging.error(f\"An error occurred: {str(e)}\")\n",
    "        print(f\"Error occurred: {e}\")\n",
    "\n",
    "    finally:\n",
    "        if conn:\n",
    "            conn.close()\n",
    "            logging.info('Database connection closed.')\n",
    "            \n",
    "# Uppdaterar SQL-tabellen med bearbetad data\n",
    "update_sql_table(df)"
   ]
  },
  {
   "cell_type": "code",
   "execution_count": null,
   "id": "5eb95231-85c3-49a1-9979-ae5170d8413a",
   "metadata": {},
   "outputs": [],
   "source": []
  }
 ],
 "metadata": {
  "kernelspec": {
   "display_name": "Python 3 (ipykernel)",
   "language": "python",
   "name": "python3"
  },
  "language_info": {
   "codemirror_mode": {
    "name": "ipython",
    "version": 3
   },
   "file_extension": ".py",
   "mimetype": "text/x-python",
   "name": "python",
   "nbconvert_exporter": "python",
   "pygments_lexer": "ipython3",
   "version": "3.12.7"
  }
 },
 "nbformat": 4,
 "nbformat_minor": 5
}
